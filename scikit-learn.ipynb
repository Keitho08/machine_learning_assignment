{
 "cells": [
  {
   "cell_type": "markdown",
   "id": "85d95d4e",
   "metadata": {},
   "source": [
    "Include a Jupyter notebook called scikit-learn.ipynb that contains the following.\n",
    "10% A clear and concise overview of the scikit-learn Python library [3].\n",
    "20% Demonstrations of three interesting scikit-learn algorithms. You may choose\n",
    "these yourself, based on what is covered in class or otherwise. Note that the\n",
    "demonstrations are at your discretion – you may choose to have an overall spread\n",
    "of examples across the library or pick a particular part that you find interesting.\n",
    "10% Appropriate plots and other visualisations to enhance your notebook for viewers."
   ]
  },
  {
   "cell_type": "code",
   "execution_count": null,
   "id": "ec158c34",
   "metadata": {},
   "outputs": [],
   "source": []
  },
  {
   "cell_type": "code",
   "execution_count": null,
   "id": "ca80e145",
   "metadata": {},
   "outputs": [],
   "source": []
  },
  {
   "cell_type": "code",
   "execution_count": null,
   "id": "18e9e90e",
   "metadata": {},
   "outputs": [],
   "source": []
  },
  {
   "cell_type": "code",
   "execution_count": null,
   "id": "6020565a",
   "metadata": {},
   "outputs": [],
   "source": []
  },
  {
   "cell_type": "code",
   "execution_count": null,
   "id": "f9247fea",
   "metadata": {},
   "outputs": [],
   "source": []
  },
  {
   "cell_type": "code",
   "execution_count": null,
   "id": "8b5f9ff7",
   "metadata": {},
   "outputs": [],
   "source": []
  },
  {
   "cell_type": "markdown",
   "id": "4a6fb1be",
   "metadata": {},
   "source": [
    "References:\n",
    "\n",
    "https://www.tutorialspoint.com/scikit_learn/index.htm\n",
    "https://scikit-learn.org/stable/tutorial/index.html\n",
    "https://scikit-learn.org/stable/tutorial/basic/tutorial.html\n",
    "https://scikit-learn.org/stable/\n",
    "https://www.datacamp.com/community/tutorials/machine-learning-python\n",
    "https://www.datacamp.com/community/tutorials/machine-learning-python\n",
    "https://www.codecademy.com/articles/scikit-learn\n",
    "https://jakevdp.github.io/PythonDataScienceHandbook/05.02-introducing-scikit-learn.html\n",
    "https://towardsdatascience.com/a-beginners-guide-to-scikit-learn-14b7e51d71a4"
   ]
  }
 ],
 "metadata": {
  "kernelspec": {
   "display_name": "Python 3",
   "language": "python",
   "name": "python3"
  },
  "language_info": {
   "codemirror_mode": {
    "name": "ipython",
    "version": 3
   },
   "file_extension": ".py",
   "mimetype": "text/x-python",
   "name": "python",
   "nbconvert_exporter": "python",
   "pygments_lexer": "ipython3",
   "version": "3.8.8"
  }
 },
 "nbformat": 4,
 "nbformat_minor": 5
}
