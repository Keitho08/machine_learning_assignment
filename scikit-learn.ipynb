{
 "cells": [
  {
   "cell_type": "markdown",
   "id": "285befda",
   "metadata": {},
   "source": [
    "# Computer Science and Data Analytic's\n",
    "## Machine Learning and Statistics 2021\n",
    "## Project 2021 - Scikit-Learn\n",
    "### By: Keith Brazill - G00387845\n",
    "\n",
    "*This assignement is submitted as part of the requirements for partial fullfilment of a postgraduate diploma in Computer Science with Data Analytics at Galway Mayo Institute of Technology.*\n",
    "\n",
    "![alt text.](https://learnonline.gmit.ie/pluginfile.php/1/theme_adaptable/logo/1606983803/Transparent%20new.png \"GMIT Logo\")"
   ]
  },
  {
   "cell_type": "markdown",
   "id": "316e9019",
   "metadata": {},
   "source": [
    "This notebook is prepared in response to the brief assigned for the project 2021 in the module of Machine Learning and Statistics as part of the postgraduate diploma in Computer Science with Data Analytics at Galway Mayo Institute of Technology.\n",
    "\n",
    "This notebook is structured as follow's:\n",
    "\n",
    "- Introduction\n",
    "- The Project Brief\n",
    "- Overview of Scikit-Learn\n",
    "- Scikit Learn Alogrithims Demonstrations\n",
    "- Conclusion\n",
    "- References\n",
    "\n",
    "Throughout the notebook each of the above sections is cleary explained using a combination of code and markdown cells.\n",
    "\n",
    "**Packages used in this project**\n",
    "\n",
    "The following python packages were used in this assignment to carry out the required the project brief:\n",
    "\n",
    "- Python https://www.python.org/downloads/\n",
    "- Numpy http://www.numpy.org/ - The fundamental package for scientific computing with Python.\n",
    "- Jupyter Notebook https://jupyter.org/ - Project Jupyter exists to develop open-source software, open-standards, and services for interactive computing across dozens of programming languages.\n",
    "- matplotlib.pyplot https://matplotlib.org/3.1.1/api/_as_gen/matplotlib.pyplot.html - matplotlib.pyplot is a state-based interface to matplotlib. It provides a MATLAB-like way of plotting. pyplot is mainly intended for interactive plots and simple cases of programmatic plot generation.\n",
    "- seaborn https://seaborn.pydata.org/ - Seaborn is a Python data visualization library based on matplotlib. It provides a high-level interface for drawing attractive and informative statistical graphics.\n",
    "- pandas https://pandas.pydata.org/ - pandas is a fast, powerful, flexible and easy to use open source data analysis and manipulation tool, built on top of the Python programming language.\n",
    "- Scikit Learn - The most widely used pyhton machine learning package available at: https://scikit-learn.org/stable/index.html. "
   ]
  },
  {
   "cell_type": "markdown",
   "id": "9b458437",
   "metadata": {},
   "source": [
    "\n",
    "\n",
    "# 2. The Project Brief"
   ]
  },
  {
   "cell_type": "markdown",
   "id": "e724204b",
   "metadata": {},
   "source": [
    "**Scikit-Learn Jupyter Notebook**\n",
    "\n",
    "Include a Jupyter notebook called scikit-learn.ipynb that contains the following.\n",
    "\n",
    "- 10% A clear and concise overview of the scikit-learn Python library [3].\n",
    "- 20% Demonstrations of three interesting scikit-learn algorithms. You may choose these yourself, based on what is covered in class or otherwise. Note that the demonstrations are at your discretion – you may choose to have an overall spread of examples across the library or pick a particular part that you find interesting.\n",
    "- 10% Appropriate plots and other visualisations to enhance your notebook for viewers"
   ]
  },
  {
   "cell_type": "markdown",
   "id": "4d7f6ed0",
   "metadata": {},
   "source": [
    "# 3 Overview of Scikit Learn in Python"
   ]
  },
  {
   "cell_type": "markdown",
   "id": "8a1b48ab",
   "metadata": {},
   "source": [
    "![alt text.](https://miro.medium.com/max/1400/1*k67P_Lh18fp2WCIJph1HHw.png \"Scikit Learn Flow Chart\")\n",
    "\n",
    "*Scikit Learn Flow Chart, source: https://towardsdatascience.com/a-beginners-guide-to-scikit-learn-14b7e51d71a4*\n",
    "\n",
    "Scikit-learn was first developed as part of a Google summer code project in 2007. It is now the most widely used Python library for machine learning. \n",
    "\n",
    "Machine learning is an element of computer science that focuses on the design of algorithims that can learn. The typical tasks include:\n",
    "\n",
    "* Concept Learning\n",
    "* Predictive Modelling\n",
    "* Clustering and finding predictive patterns in data.\n",
    "\n",
    "These tasks are trained based on existing data or instructions. The ultimate goal is to creat an automatic learning process that requires no human interference. \n",
    "\n",
    "In laymans terms, the learning considers a number of samples of data and then tries to predict properties of unknown data against the known samples. The learning problems fall into the following categories:\n",
    "\n",
    "* supervised learning: this is data that comes with additional properties we want to predict this can be either classification or regression types.\n",
    "    - Classification: This consists of samples belonging to two or more classes and we want to predict the class of un-labelled data (e.g. Iris Flower Data Set). \n",
    "    - Regression: If the desired output includes one or more continous variable then this is referred to as regression. A real world example here may be predicting the lenght of a salmon fish based on its age and weight. \n",
    "\n",
    "in which the data comes with additional attributes that we want to predict (Click here to go to the scikit-learn supervised learning page).This problem can be either:\n",
    "\n",
    "* unsupervised learning:This data consists of set of \"input\" vectors \"x\" without any corresponding target values. The aim in these problems may be to discover clusters of similar examples in the data, i.e. clustering. \n",
    "\n",
    "**Training set and testing set**\n",
    "\n",
    "Machine learning generally consists of learning properties of a data set (training set) and testing against properties of another data set (testing set). It is common practice to split a data set to do this and use one set for training and other for testing against the training set. \n",
    "\n",
    "In the following section of the notebook we will look at carrying out examples of machine learning algorithims on data sets. "
   ]
  },
  {
   "cell_type": "markdown",
   "id": "006f9666",
   "metadata": {},
   "source": [
    "# 4 Scikit Learn Alogrithims Demonstrations"
   ]
  },
  {
   "cell_type": "markdown",
   "id": "a2e366e0",
   "metadata": {},
   "source": [
    "## 4.1 The Data Set."
   ]
  },
  {
   "cell_type": "code",
   "execution_count": 2,
   "id": "34f5d43b",
   "metadata": {},
   "outputs": [],
   "source": [
    "import pandas as pd \n",
    "import numpy as np  \n",
    "from sklearn.datasets import load_iris \n",
    "from sklearn.model_selection import train_test_split \n",
    "from sklearn.neighbors import KNeighborsClassifier \n",
    "from sklearn import metrics \n",
    "import matplotlib.pyplot as plt \n",
    "iris = load_iris() "
   ]
  },
  {
   "cell_type": "code",
   "execution_count": null,
   "id": "3f6f2f90",
   "metadata": {},
   "outputs": [],
   "source": []
  },
  {
   "cell_type": "code",
   "execution_count": null,
   "id": "6020565a",
   "metadata": {},
   "outputs": [],
   "source": []
  },
  {
   "cell_type": "code",
   "execution_count": null,
   "id": "f9247fea",
   "metadata": {},
   "outputs": [],
   "source": []
  },
  {
   "cell_type": "code",
   "execution_count": null,
   "id": "8b5f9ff7",
   "metadata": {},
   "outputs": [],
   "source": []
  },
  {
   "cell_type": "markdown",
   "id": "4a6fb1be",
   "metadata": {},
   "source": [
    "References:\n",
    "\n",
    "https://www.tutorialspoint.com/scikit_learn/index.htm\n",
    "https://scikit-learn.org/stable/tutorial/index.html\n",
    "https://scikit-learn.org/stable/tutorial/basic/tutorial.html\n",
    "https://scikit-learn.org/stable/\n",
    "https://www.datacamp.com/community/tutorials/machine-learning-python\n",
    "https://www.datacamp.com/community/tutorials/machine-learning-python\n",
    "https://www.codecademy.com/articles/scikit-learn\n",
    "https://jakevdp.github.io/PythonDataScienceHandbook/05.02-introducing-scikit-learn.html\n",
    "https://towardsdatascience.com/a-beginners-guide-to-scikit-learn-14b7e51d71a4"
   ]
  }
 ],
 "metadata": {
  "kernelspec": {
   "display_name": "Python 3",
   "language": "python",
   "name": "python3"
  },
  "language_info": {
   "codemirror_mode": {
    "name": "ipython",
    "version": 3
   },
   "file_extension": ".py",
   "mimetype": "text/x-python",
   "name": "python",
   "nbconvert_exporter": "python",
   "pygments_lexer": "ipython3",
   "version": "3.8.8"
  }
 },
 "nbformat": 4,
 "nbformat_minor": 5
}
