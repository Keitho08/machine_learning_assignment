{
 "cells": [
  {
   "cell_type": "markdown",
   "id": "2c81250b",
   "metadata": {},
   "source": [
    "Brief:\n",
    "\n",
    "Scipy Stats Jupyter Notebook\n",
    "Include a Jupyter notebook called scipy-stats.ipynb that contains the following.\n",
    "10% A clear and concise overview of the scipy.stats Python library [4].\n",
    "20% An example hypothesis test using ANOVA. You should find a data set on which\n",
    "it is appropriate to use ANOVA, ensure the assumptions underlying ANOVA are\n",
    "met, and then perform and display the results of your ANOVA using scipy.stats.\n",
    "10% Appropriate plots and other visualisations to enhance your notebook for viewers.\n"
   ]
  },
  {
   "cell_type": "code",
   "execution_count": null,
   "id": "279c1dba",
   "metadata": {},
   "outputs": [],
   "source": []
  }
 ],
 "metadata": {
  "kernelspec": {
   "display_name": "Python 3",
   "language": "python",
   "name": "python3"
  },
  "language_info": {
   "codemirror_mode": {
    "name": "ipython",
    "version": 3
   },
   "file_extension": ".py",
   "mimetype": "text/x-python",
   "name": "python",
   "nbconvert_exporter": "python",
   "pygments_lexer": "ipython3",
   "version": "3.8.8"
  }
 },
 "nbformat": 4,
 "nbformat_minor": 5
}
