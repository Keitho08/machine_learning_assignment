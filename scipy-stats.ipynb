{
 "cells": [
  {
   "cell_type": "markdown",
   "id": "9fc89e03",
   "metadata": {},
   "source": [
    "# Computer Science and Data Analytic's\n",
    "## Machine Learning and Statistics 2021\n",
    "## Project 2021 - Scipy-Stats\n",
    "### By: Keith Brazill - G00387845\n",
    "\n",
    "*This assignement is submitted as part of the requirements for partial fullfilment of a postgraduate diploma in Computer Science with Data Analytics at Galway Mayo Institute of Technology.*\n",
    "\n",
    "![alt text.](https://learnonline.gmit.ie/pluginfile.php/1/theme_adaptable/logo/1606983803/Transparent%20new.png \"GMIT Logo\")"
   ]
  },
  {
   "cell_type": "markdown",
   "id": "8a5eb0b8",
   "metadata": {},
   "source": [
    "This notebook is prepared in response to the brief assigned for the project 2021 in the module of Machine Learning and Statistics as part of the postgraduate diploma in Computer Science with Data Analytics at Galway Mayo Institute of Technology.\n",
    "\n",
    "This notebook is structured as follow's:\n",
    "\n",
    "- Introduction\n",
    "- The Project Brief\n",
    "- Overview of Scipy Stats\n",
    "- Hypothesis Testing using Anova with Scipy Stats\n",
    "- References\n",
    "\n",
    "Throughout the notebook each of the above sections is cleary explained using a combination of code and markdown cells.\n",
    "\n",
    "**Packages used in this project**\n",
    "\n",
    "The following python packages were used in this assignment to carry out the required the project brief:\n",
    "\n",
    "- Python https://www.python.org/downloads/\n",
    "- Numpy http://www.numpy.org/ - The fundamental package for scientific computing with Python.\n",
    "- Jupyter Notebook https://jupyter.org/ - Project Jupyter exists to develop open-source software, open-standards, and services for interactive computing across dozens of programming languages.\n",
    "- matplotlib.pyplot https://matplotlib.org/3.1.1/api/_as_gen/matplotlib.pyplot.html - matplotlib.pyplot is a state-based interface to matplotlib. It provides a MATLAB-like way of plotting. pyplot is mainly intended for interactive plots and simple cases of programmatic plot generation.\n",
    "- seaborn https://seaborn.pydata.org/ - Seaborn is a Python data visualization library based on matplotlib. It provides a high-level interface for drawing attractive and informative statistical graphics.\n",
    "- pandas https://pandas.pydata.org/ - pandas is a fast, powerful, flexible and easy to use open source data analysis and manipulation tool, built on top of the Python programming language.\n",
    "- Scikit Learn - The most widely used pyhton machine learning package available at: https://scikit-learn.org/stable/index.html.\n",
    "- Scipy Stats - Is a third-party library for scientific computing based on NumPy. It offers additional functionality compared to NumPy, including scipy.stats for statistical analysis.Documentation available at: https://docs.scipy.org/doc/scipy/reference/stats.html"
   ]
  },
  {
   "cell_type": "markdown",
   "id": "e643f518",
   "metadata": {},
   "source": [
    "\n",
    "# 2. The Project Brief"
   ]
  },
  {
   "cell_type": "markdown",
   "id": "18dbe2c7",
   "metadata": {},
   "source": [
    "**Scipy Stats Jupyter Notebook**\n",
    "- Include a Jupyter notebook called scipy-stats.ipynb that contains the following:\n",
    "    - A clear and concise overview of the scipy.stats Python library\n",
    "    - An example hypothesis test using ANOVA. You should find a data set on which it is appropriate to use ANOVA, ensure the assumptions underlying ANOVA are met, and then perform and display the results of your ANOVA using scipy.stats.\n",
    "    - Appropriate plots and other visualisations to enhance your notebook for viewers."
   ]
  },
  {
   "cell_type": "markdown",
   "id": "ee4bc715",
   "metadata": {},
   "source": [
    "# 3 Overview of Scipy Stats in Python"
   ]
  },
  {
   "cell_type": "markdown",
   "id": "2c81250b",
   "metadata": {},
   "source": [
    "## What is Scipy\n",
    "\n",
    "Scipy is an open source python library used to solve a range of numerous scientific and mathemical problems. Scipy is built on top of numpy and it allows Data Scientists to manipulate and visualise data with a wide range of functions and in built libraries. \n",
    "\n",
    "Within Scipy there are numerous subpackackages for various different applications, a summary of some of the main ones is provided below:\n",
    "\n",
    "- cluster:\tClustering algorithms\n",
    "- constants:\tPhysical and mathematical constants\n",
    "- fftpack:\tFast Fourier Transform routines\n",
    "- integrate:\tIntegration and ordinary differential equation solvers\n",
    "- interpolate:\tInterpolation and smoothing splines\n",
    "- io:\tInput and Output\n",
    "- linalg:\tLinear algebra\n",
    "- ndimage:\tN-dimensional image processing\n",
    "- odr:\tOrthogonal distance regression\n",
    "- optimize:\tOptimization and root-finding routines\n",
    "- signal:\tSignal processing\n",
    "- sparse:\tSparse matrices and associated routines\n",
    "- spatial:\tSpatial data structures and algorithms\n",
    "- special:\tSpecial functions\n",
    "- stats:\tStatistical distributions and functions\n",
    "\n",
    "For a detailed description of all subpackages refer to the full Scipy documentations provided in references.\n",
    "\n",
    "## Scipy Stats\n",
    "\n",
    "The Scipy Stats module is a significant tool for assessing the randomness of data. For example, if we computed the probability of coin tossing e.g. producing at least 16 heads after twenty coins flips, our manual calculations would require us to examine all scenarios for twenty flipped coins. This can be done instantly with Stats. To demonstrate the power and utilisation of the Scipy Stats package we will simulate coin flipping and probability calculations in following code. \n"
   ]
  },
  {
   "cell_type": "markdown",
   "id": "5648871d",
   "metadata": {},
   "source": [
    "## Examples of Scipy Stats in Python"
   ]
  },
  {
   "cell_type": "markdown",
   "id": "68d17be9",
   "metadata": {},
   "source": [
    "To understand the application of Scipy Stats particularly in python it is best explained using some example code. Scipy can be installed in the command line using `pip install scipy`. Once installed we are going to import the stats module of Scipy using following code:"
   ]
  },
  {
   "cell_type": "code",
   "execution_count": 1,
   "id": "5a36f05a",
   "metadata": {},
   "outputs": [],
   "source": [
    "from scipy import stats"
   ]
  },
  {
   "cell_type": "markdown",
   "id": "bffb9eb5",
   "metadata": {},
   "source": [
    "For our fist example lets use the stats.binomial test method. The method is called after the binomial distribution which determines how a flipped coins may land. There are 3 parameters required:\n",
    "    - the number of heads\n",
    "    - the number of flips, and,\n",
    "    - the probability of a coin landing on heads."
   ]
  },
  {
   "cell_type": "code",
   "execution_count": 2,
   "id": "2301be81",
   "metadata": {},
   "outputs": [
    {
     "name": "stdout",
     "output_type": "stream",
     "text": [
      "Probability of observing more than 15 heads or 15 tails is 0.01181793212890625\n"
     ]
    }
   ],
   "source": [
    "num_heads = 16\n",
    "num_tosses = 20\n",
    "prob_head = 0.5 # 2 sides to coins so 50% chance\n",
    "prob = stats.binom_test(num_heads, num_tosses, prob_head)\n",
    "print(f\"Probability of observing more than 15 heads or 15 tails is {prob:.17f}\")\n"
   ]
  },
  {
   "cell_type": "markdown",
   "id": "8706da38",
   "metadata": {},
   "source": [
    "It is important to note that stats.binomial_test did not compute the probability of observing sixteen heads, but rather it returned the probability of seeing a coin flip sequence where sixteen coins or more fell on the same face. To calcualte probability of getting exactly 16 heads we must use stats.binom.pmf method. PMF stands for \"probability mass function\" of the binomial distribution. This function maps inputted integer values to their probability of occuring. We will calculate this using below code:"
   ]
  },
  {
   "cell_type": "code",
   "execution_count": 3,
   "id": "fdc074de",
   "metadata": {},
   "outputs": [
    {
     "name": "stdout",
     "output_type": "stream",
     "text": [
      "The probability of seeing 16 of 20 heads is 0.004620552062988271\n"
     ]
    }
   ],
   "source": [
    "prob_16_heads = stats.binom.pmf(num_heads, num_tosses, prob_head)\n",
    "print(f\"The probability of seeing {num_heads} of {num_tosses} heads is {prob_16_heads}\")"
   ]
  },
  {
   "cell_type": "markdown",
   "id": "f5c494ae",
   "metadata": {},
   "source": [
    "We can see the probability of seeing exactly 16 heads is much lower. Now lets go a step further. Using Scipy-Stats we can calcualte multiple probabilities simultaneously. Using multiple head-count we can pass in a number of probabilities. For example [4, 16] will return a two element Numpy array containting the probability of seeing fOUR heads and 16 heads. "
   ]
  },
  {
   "cell_type": "code",
   "execution_count": 4,
   "id": "24834706",
   "metadata": {},
   "outputs": [],
   "source": [
    "prob_simult = stats.binom.pmf([4,16], num_tosses, prob_head)\n",
    "assert prob_simult.tolist() == [prob_16_heads] * 2"
   ]
  },
  {
   "cell_type": "markdown",
   "id": "d71b926b",
   "metadata": {},
   "source": [
    "Passing via a list allows us to determine probabilities across intervals such as pass range(21) into stats.binom.pmf then the array will contain all probabilities across the total number of every head count from above. The sum of probabilities should therefore equal 1.0."
   ]
  },
  {
   "cell_type": "code",
   "execution_count": 5,
   "id": "5e3c3311",
   "metadata": {},
   "outputs": [
    {
     "name": "stdout",
     "output_type": "stream",
     "text": [
      "total sum of probabilities equals 1.00000000000000\n"
     ]
    }
   ],
   "source": [
    "interval_all_counts = range(21)\n",
    "prob_simult = stats.binom.pmf(interval_all_counts, num_tosses, prob_head)\n",
    "total_prob = prob_simult.sum()\n",
    "print(f\"total sum of probabilities equals {total_prob:.14f}\")\n"
   ]
  },
  {
   "cell_type": "markdown",
   "id": "803f7fff",
   "metadata": {},
   "source": [
    "Plotting interval_all_counts vs probabilties will give us a shap to our twenty coin flip distribution. We can generate this plot by importing matplotlib.pyplot."
   ]
  },
  {
   "cell_type": "code",
   "execution_count": 6,
   "id": "8203c550",
   "metadata": {},
   "outputs": [
    {
     "data": {
      "image/png": "[encoded data removed]",
      "text/plain": [
       "<Figure size 432x288 with 1 Axes>"
      ]
     },
     "metadata": {
      "needs_background": "light"
     },
     "output_type": "display_data"
    }
   ],
   "source": [
    "import matplotlib.pyplot as plt\n",
    "plt.plot(interval_all_counts, prob_simult)\n",
    "plt.xlabel('Head Count')\n",
    "plt.ylabel('Probability')\n",
    "plt.show()"
   ]
  },
  {
   "cell_type": "markdown",
   "id": "aa6d1020",
   "metadata": {},
   "source": [
    "The stats.binom.pmf allows us to display and distribution associated with a flip coin, we can plot multiple flips togehter in one graph, for example 20, 50, 150, 200:"
   ]
  },
  {
   "cell_type": "code",
   "execution_count": 7,
   "id": "75e5063d",
   "metadata": {},
   "outputs": [
    {
     "data": {
      "image/png": "[encoded data removed]",
      "text/plain": [
       "<Figure size 432x288 with 1 Axes>"
      ]
     },
     "metadata": {
      "needs_background": "light"
     },
     "output_type": "display_data"
    }
   ],
   "source": [
    "flip_counts = [20, 50, 140, 200] #sets counts\n",
    "linestyles = ['-','--', '-.', ':'] #sets unique linestyle for each plot\n",
    "colors = ['b', 'g', 'r', 'k'] # sets unique color for each plot\n",
    "\n",
    "for num_tosses, linestyle, color in zip (flip_counts, linestyles, colors):\n",
    "    x_values = range(num_tosses + 1)\n",
    "    y_values = stats.binom.pmf(x_values, num_tosses, 0.5)\n",
    "    plt.plot(x_values, y_values, linestyle=linestyle, color=color, label=f'{num_tosses} coin-flips')\n",
    "\n",
    "plt.legend()\n",
    "plt.xlabel('Head Count')\n",
    "plt.ylabel('Probability')\n",
    "plt.show()\n"
   ]
  },
  {
   "cell_type": "markdown",
   "id": "9646844e",
   "metadata": {},
   "source": [
    "The peak of each binomial shits to the right as the coin toss increases. It is also noted how thinner the smaller coin toss numbers are compared to the higher number. \n",
    "\n",
    "Having reviewed the Scipy stats package using above examples and explanations we are now going to move to the next stage of our notebook which is hypthesis testing using Anova."
   ]
  },
  {
   "cell_type": "markdown",
   "id": "bd3e4572",
   "metadata": {},
   "source": [
    "# 4 Anova Hypothesis Testing"
   ]
  },
  {
   "cell_type": "markdown",
   "id": "8d4e50fd",
   "metadata": {},
   "source": [
    "For our anova (analysis of variance) hypothesis test we are can to use a sub package called one way Anova (https://docs.scipy.org/doc/scipy/reference/generated/scipy.stats.f_oneway.html). One way Avova is used to determine if there are statistically significant differences between the means of three or more independent groups. "
   ]
  },
  {
   "cell_type": "markdown",
   "id": "663d7525",
   "metadata": {},
   "source": [
    "## One Way Anova in Python\n",
    "\n",
    "For our example we will demonstrate how a one way anova hypothesis can be tested in python. Our assumed scenarioo will be that a researcher will request 30 of their students to participate in learning project where each of the students will be randomly assigned a study technique to use for an upcoming exam. The students will have a number of weeks to prepare and at the end of the three weeks will sit the test. We will generate random test scores for the three groups using numpy.linspace."
   ]
  },
  {
   "cell_type": "code",
   "execution_count": 8,
   "id": "cbce668e",
   "metadata": {},
   "outputs": [
    {
     "name": "stdout",
     "output_type": "stream",
     "text": [
      "group a test results are [80.         81.33333333 82.66666667 84.         85.33333333 86.66666667\n",
      " 88.         89.33333333 90.66666667 92.        ]\n",
      "group b test results are [75.         76.33333333 77.66666667 79.         80.33333333 81.66666667\n",
      " 83.         84.33333333 85.66666667 87.        ]\n",
      "group c test results are [77.5        78.83333333 80.16666667 81.5        82.83333333 84.16666667\n",
      " 85.5        86.83333333 88.16666667 89.5       ]\n"
     ]
    }
   ],
   "source": [
    "import numpy as np \n",
    "\n",
    "n = 10 # number of results per group\n",
    "a = np.linspace(80,92, n) # creates an array evenly spaced between numbers for n\n",
    "b = a -5 \n",
    "c = (a+b) / 2\n",
    "\n",
    "print(\"group a test results are\", a)\n",
    "print(\"group b test results are\", b)\n",
    "print(\"group c test results are\", c)"
   ]
  },
  {
   "cell_type": "markdown",
   "id": "71d408c4",
   "metadata": {},
   "source": [
    "Next we can use the f_oneway package fromt the scipy stats library to carry out the f one way calculation to the generate the F statistic and P-Value. "
   ]
  },
  {
   "cell_type": "code",
   "execution_count": 9,
   "id": "4f03aa10",
   "metadata": {},
   "outputs": [
    {
     "name": "stdout",
     "output_type": "stream",
     "text": [
      "statistic F is 3.8352272727272716\n",
      "P-Value is 0.03419456529100415\n"
     ]
    }
   ],
   "source": [
    "from scipy.stats import f_oneway\n",
    "\n",
    "F, p = f_oneway(a, b, c)\n",
    "\n",
    "print(\"statistic F is\", F)\n",
    "print(\"P-Value is\", p)"
   ]
  },
  {
   "cell_type": "markdown",
   "id": "a485b9d0",
   "metadata": {},
   "source": [
    "## Interpreting the Results\n",
    "\n",
    "The F test statistic is 3.8352272727272716 and the corresponding p-value is 0.03419456529100415. The F-statistic is the ratio of the mean squares treatment to the means squares error or another way of saying this is that it is the variation between sample means divivded by variation within samples. The larger the F-statistic the greater the variation between the samples.\n",
    "\n",
    "To determine if there is a statistically significant difference between the groups we can look at the F-statistics corresponding p-value. This is automatically calculated using scipy stats f_oneway. If the p-value is less than α = .05, we reject the null hypothesis of the anova and can conclude that there is a significantly statistic difference between the mean of the three groups. In our particular example the p-value is less than 0.05 so there is a significant statistical difference between the three mean our sufficient evidence for us to say there is a statistical difference. "
   ]
  },
  {
   "cell_type": "markdown",
   "id": "2ac2051c",
   "metadata": {},
   "source": [
    "Lets run one more example for where we would fail to reject the null hypothesis:"
   ]
  },
  {
   "cell_type": "code",
   "execution_count": 10,
   "id": "c5d7f553",
   "metadata": {},
   "outputs": [
    {
     "name": "stdout",
     "output_type": "stream",
     "text": [
      "group a1 test results are [80.         81.33333333 82.66666667 84.         85.33333333 86.66666667\n",
      " 88.         89.33333333 90.66666667 92.        ]\n",
      "group b1 test results are [79.         80.33333333 81.66666667 83.         84.33333333 85.66666667\n",
      " 87.         88.33333333 89.66666667 91.        ]\n",
      "group c1 test results are [77.         78.33333333 79.66666667 81.         82.33333333 83.66666667\n",
      " 85.         86.33333333 87.66666667 89.        ]\n"
     ]
    }
   ],
   "source": [
    "n = 10 # number of results per group\n",
    "a1 = np.linspace(80,92, n) # creates an array evenly spaced between numbers for n\n",
    "b1 = a1 -1\n",
    "c1 = b1 -2\n",
    "\n",
    "print(\"group a1 test results are\", a1)\n",
    "print(\"group b1 test results are\", b1)\n",
    "print(\"group c1 test results are\", c1)"
   ]
  },
  {
   "cell_type": "code",
   "execution_count": 11,
   "id": "33a22f90",
   "metadata": {},
   "outputs": [
    {
     "name": "stdout",
     "output_type": "stream",
     "text": [
      "statistic F is 1.43182\n",
      "P-Value is 0.25643926\n"
     ]
    }
   ],
   "source": [
    "F1, p1 = f_oneway(a1, b1, c1)\n",
    "\n",
    "print(\"statistic F is\", round(F1,5))\n",
    "print(\"P-Value is\", round(p1,8))"
   ]
  },
  {
   "cell_type": "markdown",
   "id": "7ca04c49",
   "metadata": {},
   "source": [
    "In the above example we put little difference between the three groups and got a closer to 1 F statistic 1.43182. The p-value 0.25643926 is also greater than α = .05 so we would fail to reject the null hypothesis. This means we do not have enough evidence to say that there is a statistically significant difference between the group means."
   ]
  },
  {
   "cell_type": "markdown",
   "id": "17491b51",
   "metadata": {},
   "source": [
    "# 5 References\n",
    "\n",
    "1. Docs.scipy.org. 2021. Statistical functions (scipy.stats) — SciPy v1.7.1 Manual. [online] Available at: <https://docs.scipy.org/doc/scipy/reference/stats.html> [Accessed 16 December 2021].\n",
    "2. Docs.scipy.org. 2021. Statistical functions (scipy.stats) — SciPy v1.7.1 Manual. [online] Available at: <https://docs.scipy.org/doc/scipy/reference/stats.html> [Accessed 16 December 2021].\n",
    "3. Urooj, W., 2021. SciPy Tutorial | Beginners Guide to Python SciPy with Examples | Edureka. [online] Edureka. Available at: <https://www.edureka.co/blog/scipy-tutorial/> [Accessed 16 December 2021].\n",
    "4. Manning. 2021. Basic Probability and Statistical Analysis Using SciPy - Manning. [online] Available at: <https://freecontent.manning.com/basic-probability-and-statistical-analysis-using-scipy/> [Accessed 16 December 2021].\n",
    "5. Zach, V., 2021. How to Perform a One-Way ANOVA in Python - Statology. [online] Statology. Available at: <https://www.statology.org/one-way-anova-python/> [Accessed 16 December 2021].\n",
    "6. Docs.scipy.org. 2021. scipy.stats.f_oneway — SciPy v1.7.1 Manual. [online] Available at: <https://docs.scipy.org/doc/scipy/reference/generated/scipy.stats.f_oneway.html> [Accessed 16 December 2021].\n",
    "7. Statistics.laerd.com. 2021. One-way ANOVA - Violations to the assumptions of this test and how to report the results | Laerd Statistics. [online] Available at: <https://statistics.laerd.com/statistical-guides/one-way-anova-statistical-guide-3.php> [Accessed 16 December 2021].\n",
    "8. Zach, V., 2021. How to Interpret the F-Value and P-Value in ANOVA - Statology. [online] Statology. Available at: <https://www.statology.org/anova-f-value-p-value/> [Accessed 16 December 2021].\n",
    "9. Docs.scipy.org. 2021. scipy.stats.f_oneway — SciPy v1.7.1 Manual. [online] Available at: <https://docs.scipy.org/doc/scipy/reference/generated/scipy.stats.f_oneway.html> [Accessed 16 December 2021].\n",
    "10. Marsja.se. 2021. [online] Available at: <https://www.marsja.se/four-ways-to-conduct-one-way-anovas-using-python/> [Accessed 16 December 2021].\n"
   ]
  }
 ],
 "metadata": {
  "kernelspec": {
   "display_name": "Python 3",
   "language": "python",
   "name": "python3"
  },
  "language_info": {
   "codemirror_mode": {
    "name": "ipython",
    "version": 3
   },
   "file_extension": ".py",
   "mimetype": "text/x-python",
   "name": "python",
   "nbconvert_exporter": "python",
   "pygments_lexer": "ipython3",
   "version": "3.8.8"
  }
 },
 "nbformat": 4,
 "nbformat_minor": 5
}
